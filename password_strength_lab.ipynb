{
  "nbformat": 4,
  "nbformat_minor": 0,
  "metadata": {
    "colab": {
      "provenance": [],
      "authorship_tag": "ABX9TyP4xdCSZzlnZm1vX2reHwQX",
      "include_colab_link": true
    },
    "kernelspec": {
      "name": "python3",
      "display_name": "Python 3"
    },
    "language_info": {
      "name": "python"
    }
  },
  "cells": [
    {
      "cell_type": "markdown",
      "metadata": {
        "id": "view-in-github",
        "colab_type": "text"
      },
      "source": [
        "<a href=\"https://colab.research.google.com/github/Android-JCPP-Servo/password_strength/blob/main/password_strength_lab.ipynb\" target=\"_parent\"><img src=\"https://colab.research.google.com/assets/colab-badge.svg\" alt=\"Open In Colab\"/></a>"
      ]
    },
    {
      "cell_type": "markdown",
      "source": [
        "# PASSWORD STRENGTH LAB\n",
        "Your assignment is to first prompt the user for their password. With this string, determine how many combinations of passwords exist in this set. In other words, given the length of the password (length of the string) and the complexity of the password (numbers, letters, and symbols), how large is the set of passwords represented by the user’s example? Finally, determine the bit equivalence based on the number of combinations."
      ],
      "metadata": {
        "id": "-c1i3_Zp0mO4"
      }
    },
    {
      "cell_type": "code",
      "execution_count": 45,
      "metadata": {
        "id": "3p2Y4P4WzZNk"
      },
      "outputs": [],
      "source": [
        "###########################\n",
        "# Steps to Completion:\n",
        "# 1. Get password from user\n",
        "# 2. Check what characters are in password\n",
        "# 3. Return the number of combinations from log2(n^m) calculation\n",
        "###########################\n",
        "def main():\n",
        "  # Get password from user\n",
        "  password = input(\"Please enter the password: \")\n",
        "  # Pass the password to the alphabet_analyzer function\n",
        "  size = alphabet_analyzer(password)\n",
        "  # Pass the size and password to combination_counter for number of combinations\n",
        "  combinations = combination_counter(size, password)\n",
        "  print(\"\\tThere are\", combinations, \"combinations\")"
      ]
    },
    {
      "cell_type": "markdown",
      "source": [
        "## Calculate the Number of Combinations\n",
        "Often humans are the weakest link in the security of a system. In an effort to mitigate this vulnerability, you will write a program to analyze the strength of a given user password. The program will return the maximum number of guesses it will take the crack the password."
      ],
      "metadata": {
        "id": "MdNenpF10p2i"
      }
    },
    {
      "cell_type": "code",
      "source": [
        "# Check what kinds of characters are in the password\n",
        "def alphabet_analyzer(password):\n",
        "  # Set all allowed characters for examination\n",
        "  all_caps = 'ABCDEFGHIJKLMNOPQRSTUVWXYZ'\n",
        "  lowercase = 'abcdefghijklmnopqrstuvwxyz'\n",
        "  numbers = '0123456789'\n",
        "  special_chars = '!\"#$%&\\'()*+,-./:;<=>?@[\\\\]^_`{|}~ '\n",
        "  # Set Booleans to determine if allowed characters are found\n",
        "  contains_all_caps = False\n",
        "  contains_lowercase = False\n",
        "  contains_numbers = False\n",
        "  contains_special_chars = False\n",
        "  # Set initial count of possible characters\n",
        "  size = 0\n",
        "  # TODO: Compare password to all allowed characters\n",
        "  for x in password:\n",
        "    if x in all_caps:\n",
        "      contains_all_caps = True\n",
        "    if x in lowercase:\n",
        "      contains_lowercase = True\n",
        "    if x in numbers:\n",
        "      contains_numbers = True\n",
        "    if x in special_chars:\n",
        "      contains_special_chars = True\n",
        "  # If any Booleans are True, add the alphabet size to size\n",
        "  if contains_all_caps == True:\n",
        "    size += 26\n",
        "  if contains_lowercase == True:\n",
        "    size += 26\n",
        "  if contains_numbers == True:\n",
        "    size += 10\n",
        "  if contains_special_chars == True:\n",
        "    size += 33\n",
        "  # Return number of matches\n",
        "  return size"
      ],
      "metadata": {
        "id": "ijyrDxzh3wGM"
      },
      "execution_count": 46,
      "outputs": []
    },
    {
      "cell_type": "markdown",
      "source": [
        "### Calculate Combinations\n",
        "To calculate the number of calculations, use the formula (n<sup>m</sup>), or the alphabet size (n) raised to the power of the password length (m)."
      ],
      "metadata": {
        "id": "5aqMM1g5G4OM"
      }
    },
    {
      "cell_type": "code",
      "source": [
        "def combination_counter(size, password):\n",
        "  # Calculate how many combinations are possible against the password\n",
        "  combinations = size ** len(password)\n",
        "  # print(\"Combinations:\", combinations)\n",
        "  return combinations"
      ],
      "metadata": {
        "id": "Cu2cfjCAE28C"
      },
      "execution_count": 47,
      "outputs": []
    },
    {
      "cell_type": "markdown",
      "source": [
        "## Bit Strength\n",
        "Your program will next compute the bit strength of a password. This should be accomplished by using the bit strength equation presented in the textbook.\n",
        "\n",
        "To calculate bit strength, use this calculation pattern ([mathway.com](https://www.mathway.com/popular-problems/Algebra/200159)):\n",
        "\n",
        "Example: log<sub>2</sub>(32<sup>1</sup>)\n",
        "\n",
        "1. Rewrite as an equation: log<sub>2</sub>(32) = x\n",
        "2. Rewrite equation in exponential form using the definition of a logarithm. If x and b are positive real numbers and b does not equal 1, then log<sub>b</sub>(x) = y is equivalent to b<sup>y</sup> = x: 2<sup>x</sup> = 32\n",
        "3. Create equivalent expressions in the equation that all have equal bases: 2<sup>x</sup> = 2<sup>5</sup>\n",
        "4. Since the bases are the same, the two expressions are only equal if the exponents are also equal: x = 5\n",
        "5. The variable x is equal to 5: 5"
      ],
      "metadata": {
        "id": "Yk-i2QDTD0iA"
      }
    },
    {
      "cell_type": "code",
      "source": [],
      "metadata": {
        "id": "0qAJJHkPL_u7"
      },
      "execution_count": null,
      "outputs": []
    },
    {
      "cell_type": "markdown",
      "source": [
        "## Run the program"
      ],
      "metadata": {
        "id": "zzuEFCawMAi2"
      }
    },
    {
      "cell_type": "code",
      "source": [
        "# Run the program\n",
        "if __name__ == \"__main__\":\n",
        "  main()"
      ],
      "metadata": {
        "id": "vboUn5ZF4Iag",
        "colab": {
          "base_uri": "https://localhost:8080/"
        },
        "outputId": "6a85876f-0040-4040-9416-ff56da97aaca"
      },
      "execution_count": 48,
      "outputs": [
        {
          "output_type": "stream",
          "name": "stdout",
          "text": [
            "Please enter the password: 439\n",
            "    There are 1000 combinations\n"
          ]
        }
      ]
    }
  ]
}