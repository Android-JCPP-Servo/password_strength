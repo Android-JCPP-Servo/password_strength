{
  "nbformat": 4,
  "nbformat_minor": 0,
  "metadata": {
    "colab": {
      "provenance": [],
      "authorship_tag": "ABX9TyO6/nQcYo4vhkBxjWOpGTvA",
      "include_colab_link": true
    },
    "kernelspec": {
      "name": "python3",
      "display_name": "Python 3"
    },
    "language_info": {
      "name": "python"
    }
  },
  "cells": [
    {
      "cell_type": "markdown",
      "metadata": {
        "id": "view-in-github",
        "colab_type": "text"
      },
      "source": [
        "<a href=\"https://colab.research.google.com/github/Android-JCPP-Servo/password_strength/blob/main/password_strength_lab.ipynb\" target=\"_parent\"><img src=\"https://colab.research.google.com/assets/colab-badge.svg\" alt=\"Open In Colab\"/></a>"
      ]
    },
    {
      "cell_type": "markdown",
      "source": [
        "# PASSWORD STRENGTH LAB"
      ],
      "metadata": {
        "id": "-c1i3_Zp0mO4"
      }
    },
    {
      "cell_type": "markdown",
      "source": [
        "## Calculate the Number of Combinations\n",
        "Often humans are the weakest link in the security of a system. In an effort to mitigate this vulnerability, you will write a program to analyze the strength of a given user password. The program will return the maximum number of guesses it will take the crack the password."
      ],
      "metadata": {
        "id": "MdNenpF10p2i"
      }
    },
    {
      "cell_type": "code",
      "execution_count": 7,
      "metadata": {
        "id": "3p2Y4P4WzZNk"
      },
      "outputs": [],
      "source": [
        "###########################\n",
        "# Steps to Completion:\n",
        "# 1. Get password from user\n",
        "# 2. Check what characters are in password\n",
        "# 3. Return the number of combinations from log2(n^m) calculation\n",
        "###########################\n",
        "def main():\n",
        "  # Get password from user\n",
        "  password = input(\"Please enter the password: \")\n",
        "  # Pass the password to the alphabet_analyzer function\n",
        "  result = alphabet_analyzer(password)\n",
        "  print(\"Returned matches:\", result)"
      ]
    },
    {
      "cell_type": "code",
      "source": [
        "# Check what kinds of characters are in the password\n",
        "def alphabet_analyzer(password):\n",
        "  # Set all allowed characters for examination\n",
        "  all_caps = 'ABCDEFGHIJKLMNOPQRSTUVWXYZ'\n",
        "  lowercase = 'abcdefghijklmnopqrstuvwxyz'\n",
        "  numbers = '0123456789'\n",
        "  special_chars = '!\"#$%&\\'()*+,-./:;<=>?@[\\\\]^_`{|}~'\n",
        "  # Set initial count\n",
        "  matches = 0\n",
        "  # Compare password to all allowed characters\n",
        "  for x in password:\n",
        "    for y in all_caps:\n",
        "      if x == y:\n",
        "        matches += 1\n",
        "    for z in lowercase:\n",
        "      if x == z:\n",
        "        matches += 1\n",
        "    for a in numbers:\n",
        "      if x == a:\n",
        "        matches += 1\n",
        "    for b in special_chars:\n",
        "      if x == b:\n",
        "        matches += 1\n",
        "  # Return number of matches\n",
        "  return matches"
      ],
      "metadata": {
        "id": "ijyrDxzh3wGM"
      },
      "execution_count": 8,
      "outputs": []
    },
    {
      "cell_type": "code",
      "source": [
        "# Run the program\n",
        "if __name__ == \"__main__\":\n",
        "  main()"
      ],
      "metadata": {
        "colab": {
          "base_uri": "https://localhost:8080/"
        },
        "id": "vboUn5ZF4Iag",
        "outputId": "23c19f6f-980e-4314-b9fa-785211334d22"
      },
      "execution_count": 9,
      "outputs": [
        {
          "output_type": "stream",
          "name": "stdout",
          "text": [
            "Please enter the password: TEFZ\n",
            "Returned matches: 4\n"
          ]
        }
      ]
    }
  ]
}