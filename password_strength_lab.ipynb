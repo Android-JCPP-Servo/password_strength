{
  "nbformat": 4,
  "nbformat_minor": 0,
  "metadata": {
    "colab": {
      "provenance": [],
      "authorship_tag": "ABX9TyNgpSn3zt68dPc3V2FOx27/",
      "include_colab_link": true
    },
    "kernelspec": {
      "name": "python3",
      "display_name": "Python 3"
    },
    "language_info": {
      "name": "python"
    }
  },
  "cells": [
    {
      "cell_type": "markdown",
      "metadata": {
        "id": "view-in-github",
        "colab_type": "text"
      },
      "source": [
        "<a href=\"https://colab.research.google.com/github/Android-JCPP-Servo/password_strength/blob/main/password_strength_lab.ipynb\" target=\"_parent\"><img src=\"https://colab.research.google.com/assets/colab-badge.svg\" alt=\"Open In Colab\"/></a>"
      ]
    },
    {
      "cell_type": "markdown",
      "source": [
        "# PASSWORD STRENGTH LAB"
      ],
      "metadata": {
        "id": "-c1i3_Zp0mO4"
      }
    },
    {
      "cell_type": "markdown",
      "source": [
        "## Calculate the Number of Combinations\n",
        "Often humans are the weakest link in the security of a system. In an effort to mitigate this vulnerability, you will write a program to analyze the strength of a given user password. The program will return the maximum number of guesses it will take the crack the password."
      ],
      "metadata": {
        "id": "MdNenpF10p2i"
      }
    },
    {
      "cell_type": "code",
      "execution_count": 25,
      "metadata": {
        "id": "3p2Y4P4WzZNk"
      },
      "outputs": [],
      "source": [
        "###########################\n",
        "# Steps to Completion:\n",
        "# 1. Get password from user\n",
        "# 2. Check what characters are in password\n",
        "# 3. Return the number of combinations from log2(n^m) calculation\n",
        "###########################\n",
        "def main():\n",
        "  # Get password from user\n",
        "  password = input(\"Please enter the password: \")\n",
        "  # Pass the password to the alphabet_analyzer function\n",
        "  size = alphabet_analyzer(password)\n",
        "  print(\"Alphabet size:\", size)"
      ]
    },
    {
      "cell_type": "code",
      "source": [
        "# Check what kinds of characters are in the password\n",
        "def alphabet_analyzer(password):\n",
        "  # Set all allowed characters for examination\n",
        "  all_caps = 'ABCDEFGHIJKLMNOPQRSTUVWXYZ'\n",
        "  lowercase = 'abcdefghijklmnopqrstuvwxyz'\n",
        "  numbers = '0123456789'\n",
        "  special_chars = '!\"#$%&\\'()*+,-./:;<=>?@[\\\\]^_`{|}~ '\n",
        "  # Set Booleans to determine if allowed characters are found\n",
        "  contains_all_caps = False\n",
        "  contains_lowercase = False\n",
        "  contains_numbers = False\n",
        "  contains_special_chars = False\n",
        "  # Set initial count of possible characters\n",
        "  size = 0\n",
        "  # TODO: Compare password to all allowed characters\n",
        "  \n",
        "  # Return number of matches\n",
        "  return size"
      ],
      "metadata": {
        "id": "ijyrDxzh3wGM"
      },
      "execution_count": 26,
      "outputs": []
    },
    {
      "cell_type": "code",
      "source": [
        "# Run the program\n",
        "if __name__ == \"__main__\":\n",
        "  main()"
      ],
      "metadata": {
        "id": "vboUn5ZF4Iag"
      },
      "execution_count": null,
      "outputs": []
    }
  ]
}