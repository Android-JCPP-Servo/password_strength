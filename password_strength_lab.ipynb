{
  "nbformat": 4,
  "nbformat_minor": 0,
  "metadata": {
    "colab": {
      "provenance": [],
      "authorship_tag": "ABX9TyOpD4eKEXIwpTLrF/NX2d/P",
      "include_colab_link": true
    },
    "kernelspec": {
      "name": "python3",
      "display_name": "Python 3"
    },
    "language_info": {
      "name": "python"
    }
  },
  "cells": [
    {
      "cell_type": "markdown",
      "metadata": {
        "id": "view-in-github",
        "colab_type": "text"
      },
      "source": [
        "<a href=\"https://colab.research.google.com/github/Android-JCPP-Servo/password_strength/blob/main/password_strength_lab.ipynb\" target=\"_parent\"><img src=\"https://colab.research.google.com/assets/colab-badge.svg\" alt=\"Open In Colab\"/></a>"
      ]
    },
    {
      "cell_type": "markdown",
      "source": [
        "# PASSWORD STRENGTH LAB\n",
        "Your assignment is to first prompt the user for their password. With this string, determine how many combinations of passwords exist in this set. In other words, given the length of the password (length of the string) and the complexity of the password (numbers, letters, and symbols), how large is the set of passwords represented by the user’s example? Finally, determine the bit equivalence based on the number of combinations."
      ],
      "metadata": {
        "id": "-c1i3_Zp0mO4"
      }
    },
    {
      "cell_type": "code",
      "execution_count": 10,
      "metadata": {
        "id": "3p2Y4P4WzZNk"
      },
      "outputs": [],
      "source": [
        "###########################\n",
        "# Steps to Completion:\n",
        "# 1. Get password from user\n",
        "# 2. Check what characters are in password\n",
        "# 3. Return the number of combinations from log2(n^m) calculation\n",
        "###########################\n",
        "def main():\n",
        "  # Get password from user\n",
        "  password = input(\"Please enter the password: \")\n",
        "  # Pass the password to the alphabet_analyzer function\n",
        "  size = alphabet_analyzer(password)\n",
        "  print(\"Alphabet size:\", size)"
      ]
    },
    {
      "cell_type": "markdown",
      "source": [
        "## Calculate the Number of Combinations\n",
        "Often humans are the weakest link in the security of a system. In an effort to mitigate this vulnerability, you will write a program to analyze the strength of a given user password. The program will return the maximum number of guesses it will take the crack the password."
      ],
      "metadata": {
        "id": "MdNenpF10p2i"
      }
    },
    {
      "cell_type": "code",
      "source": [
        "# Check what kinds of characters are in the password\n",
        "def alphabet_analyzer(password):\n",
        "  # Set all allowed characters for examination\n",
        "  all_caps = 'ABCDEFGHIJKLMNOPQRSTUVWXYZ'\n",
        "  lowercase = 'abcdefghijklmnopqrstuvwxyz'\n",
        "  numbers = '0123456789'\n",
        "  special_chars = '!\"#$%&\\'()*+,-./:;<=>?@[\\\\]^_`{|}~ '\n",
        "  # Set Booleans to determine if allowed characters are found\n",
        "  contains_all_caps = False\n",
        "  contains_lowercase = False\n",
        "  contains_numbers = False\n",
        "  contains_special_chars = False\n",
        "  # Set initial count of possible characters\n",
        "  size = 0\n",
        "  # TODO: Compare password to all allowed characters\n",
        "  for x in password:\n",
        "    if x in all_caps:\n",
        "      contains_all_caps = True\n",
        "    if x in lowercase:\n",
        "      contains_lowercase = True\n",
        "    if x in numbers:\n",
        "      contains_numbers = True\n",
        "    if x in special_chars:\n",
        "      contains_special_chars = True\n",
        "  # If any Booleans are True, add the alphabet size to size\n",
        "  if contains_all_caps == True:\n",
        "    size += 26\n",
        "  if contains_lowercase == True:\n",
        "    size += 26\n",
        "  if contains_numbers == True:\n",
        "    size += 10\n",
        "  if contains_special_chars == True:\n",
        "    size += 33\n",
        "  # Return number of matches\n",
        "  return size"
      ],
      "metadata": {
        "id": "ijyrDxzh3wGM"
      },
      "execution_count": 11,
      "outputs": []
    },
    {
      "cell_type": "markdown",
      "source": [
        "## Bit Strength\n",
        "Your program will next compute the bit strength of a password. This should be accomplished by using the bit strength equation presented in the textbook."
      ],
      "metadata": {
        "id": "Yk-i2QDTD0iA"
      }
    },
    {
      "cell_type": "code",
      "source": [
        "# Run the program\n",
        "if __name__ == \"__main__\":\n",
        "  main()"
      ],
      "metadata": {
        "id": "vboUn5ZF4Iag",
        "outputId": "c4243ac5-e516-461d-acdd-d6cedada043d",
        "colab": {
          "base_uri": "https://localhost:8080/"
        }
      },
      "execution_count": 12,
      "outputs": [
        {
          "output_type": "stream",
          "name": "stdout",
          "text": [
            "Please enter the password: Dog\n",
            "Alphabet size: 52\n"
          ]
        }
      ]
    }
  ]
}