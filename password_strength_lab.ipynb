{
  "nbformat": 4,
  "nbformat_minor": 0,
  "metadata": {
    "colab": {
      "provenance": [],
      "authorship_tag": "ABX9TyNdpq5fRu+VgbQjmCucmpim",
      "include_colab_link": true
    },
    "kernelspec": {
      "name": "python3",
      "display_name": "Python 3"
    },
    "language_info": {
      "name": "python"
    }
  },
  "cells": [
    {
      "cell_type": "markdown",
      "metadata": {
        "id": "view-in-github",
        "colab_type": "text"
      },
      "source": [
        "<a href=\"https://colab.research.google.com/github/Android-JCPP-Servo/password_strength/blob/main/password_strength_lab.ipynb\" target=\"_parent\"><img src=\"https://colab.research.google.com/assets/colab-badge.svg\" alt=\"Open In Colab\"/></a>"
      ]
    },
    {
      "cell_type": "markdown",
      "source": [
        "# PASSWORD STRENGTH LAB"
      ],
      "metadata": {
        "id": "-c1i3_Zp0mO4"
      }
    },
    {
      "cell_type": "markdown",
      "source": [
        "## Calculate the Number of Combinations\n",
        "Often humans are the weakest link in the security of a system. In an effort to mitigate this vulnerability, you will write a program to analyze the strength of a given user password. The program will return the maximum number of guesses it will take the crack the password."
      ],
      "metadata": {
        "id": "MdNenpF10p2i"
      }
    },
    {
      "cell_type": "code",
      "execution_count": null,
      "metadata": {
        "id": "3p2Y4P4WzZNk"
      },
      "outputs": [],
      "source": []
    }
  ]
}